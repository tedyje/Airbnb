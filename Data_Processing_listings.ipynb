{
  "nbformat": 4,
  "nbformat_minor": 0,
  "metadata": {
    "colab": {
      "name": "Data-Processing-listings.ipynb",
      "provenance": [],
      "collapsed_sections": [],
      "toc_visible": true,
      "mount_file_id": "1MSG1pWkvddgQYxVo4D12YUpHcrOxPO45",
      "authorship_tag": "ABX9TyMS01ooGGOvDR/dhBHVyG0Y"
    },
    "kernelspec": {
      "name": "python3",
      "display_name": "Python 3"
    }
  },
  "cells": [
    {
      "cell_type": "code",
      "metadata": {
        "id": "eRKUhmmwiGxw",
        "colab_type": "code",
        "colab": {}
      },
      "source": [
        "import pandas as pd\n",
        "import numpy as np\n",
        "import re\n",
        "import warnings"
      ],
      "execution_count": 0,
      "outputs": []
    },
    {
      "cell_type": "markdown",
      "metadata": {
        "id": "Y-p2E-x5w9Pp",
        "colab_type": "text"
      },
      "source": [
        "Let's create a folder on google drive to save files"
      ]
    },
    {
      "cell_type": "code",
      "metadata": {
        "id": "vKEfWBGPi0jd",
        "colab_type": "code",
        "colab": {}
      },
      "source": [
        "import os\n",
        "\n",
        "def create_directory(directory_name):\n",
        "\n",
        "  if not os.path.exists(directory_name):\n",
        "    os.makedirs(directory_name)\n",
        "    print('The folder was successfully created')\n",
        "  else:\n",
        "    print('The folder exists')"
      ],
      "execution_count": 0,
      "outputs": []
    },
    {
      "cell_type": "code",
      "metadata": {
        "id": "zfe0e7A0iMMJ",
        "colab_type": "code",
        "outputId": "0a59df9e-9f33-4a44-d976-ae0b9c14ba35",
        "colab": {
          "base_uri": "https://localhost:8080/",
          "height": 214
        }
      },
      "source": [
        "# warnings.filterwarnings('ignore')\n",
        "pd.options.display.max_columns = 2\n",
        "\n",
        "def laoding_data(url):\n",
        "  data = pd.read_csv(url, compression = 'gzip', delimiter=',')\n",
        "\n",
        "  return data\n",
        "\n",
        "url = 'http://data.insideairbnb.com/the-netherlands/north-holland/amsterdam/2020-02-14/data/listings.csv.gz'\n",
        "\n",
        "listings = laoding_data(url)\n",
        "print('The listings data has {} features and {} entries'.format(listings.shape[1], listings.shape[0]))\n",
        "listings.head(2)"
      ],
      "execution_count": 0,
      "outputs": [
        {
          "output_type": "stream",
          "text": [
            "The listings data has 106 features and 19700 entries\n"
          ],
          "name": "stdout"
        },
        {
          "output_type": "stream",
          "text": [
            "/usr/local/lib/python3.6/dist-packages/IPython/core/interactiveshell.py:2822: DtypeWarning: Columns (61,62,94) have mixed types. Specify dtype option on import or set low_memory=False.\n",
            "  if self.run_code(code, result):\n"
          ],
          "name": "stderr"
        },
        {
          "output_type": "execute_result",
          "data": {
            "text/html": [
              "<div>\n",
              "<style scoped>\n",
              "    .dataframe tbody tr th:only-of-type {\n",
              "        vertical-align: middle;\n",
              "    }\n",
              "\n",
              "    .dataframe tbody tr th {\n",
              "        vertical-align: top;\n",
              "    }\n",
              "\n",
              "    .dataframe thead th {\n",
              "        text-align: right;\n",
              "    }\n",
              "</style>\n",
              "<table border=\"1\" class=\"dataframe\">\n",
              "  <thead>\n",
              "    <tr style=\"text-align: right;\">\n",
              "      <th></th>\n",
              "      <th>id</th>\n",
              "      <th>...</th>\n",
              "      <th>reviews_per_month</th>\n",
              "    </tr>\n",
              "  </thead>\n",
              "  <tbody>\n",
              "    <tr>\n",
              "      <th>0</th>\n",
              "      <td>2818</td>\n",
              "      <td>...</td>\n",
              "      <td>2.09</td>\n",
              "    </tr>\n",
              "    <tr>\n",
              "      <th>1</th>\n",
              "      <td>20168</td>\n",
              "      <td>...</td>\n",
              "      <td>2.65</td>\n",
              "    </tr>\n",
              "  </tbody>\n",
              "</table>\n",
              "<p>2 rows × 106 columns</p>\n",
              "</div>"
            ],
            "text/plain": [
              "      id  ... reviews_per_month\n",
              "0   2818  ...              2.09\n",
              "1  20168  ...              2.65\n",
              "\n",
              "[2 rows x 106 columns]"
            ]
          },
          "metadata": {
            "tags": []
          },
          "execution_count": 13
        }
      ]
    },
    {
      "cell_type": "code",
      "metadata": {
        "id": "IAAhuKKGpz4d",
        "colab_type": "code",
        "outputId": "a8d3a1da-a7ea-4c5f-d883-5d46683c9af3",
        "colab": {
          "base_uri": "https://localhost:8080/",
          "height": 1000
        }
      },
      "source": [
        "listings.info(verbose=True,null_counts=True)"
      ],
      "execution_count": 0,
      "outputs": [
        {
          "output_type": "stream",
          "text": [
            "<class 'pandas.core.frame.DataFrame'>\n",
            "RangeIndex: 19700 entries, 0 to 19699\n",
            "Data columns (total 106 columns):\n",
            "id                                              19700 non-null int64\n",
            "listing_url                                     19700 non-null object\n",
            "scrape_id                                       19700 non-null int64\n",
            "last_scraped                                    19700 non-null object\n",
            "name                                            19667 non-null object\n",
            "summary                                         19102 non-null object\n",
            "space                                           14462 non-null object\n",
            "description                                     19471 non-null object\n",
            "experiences_offered                             19700 non-null object\n",
            "neighborhood_overview                           13548 non-null object\n",
            "notes                                           8265 non-null object\n",
            "transit                                         13765 non-null object\n",
            "access                                          11141 non-null object\n",
            "interaction                                     12025 non-null object\n",
            "house_rules                                     12032 non-null object\n",
            "thumbnail_url                                   0 non-null float64\n",
            "medium_url                                      0 non-null float64\n",
            "picture_url                                     19700 non-null object\n",
            "xl_picture_url                                  0 non-null float64\n",
            "host_id                                         19700 non-null int64\n",
            "host_url                                        19700 non-null object\n",
            "host_name                                       19697 non-null object\n",
            "host_since                                      19697 non-null object\n",
            "host_location                                   19662 non-null object\n",
            "host_about                                      11288 non-null object\n",
            "host_response_time                              9952 non-null object\n",
            "host_response_rate                              9952 non-null object\n",
            "host_acceptance_rate                            13791 non-null object\n",
            "host_is_superhost                               19697 non-null object\n",
            "host_thumbnail_url                              19697 non-null object\n",
            "host_picture_url                                19697 non-null object\n",
            "host_neighbourhood                              13897 non-null object\n",
            "host_listings_count                             19697 non-null float64\n",
            "host_total_listings_count                       19697 non-null float64\n",
            "host_verifications                              19700 non-null object\n",
            "host_has_profile_pic                            19697 non-null object\n",
            "host_identity_verified                          19697 non-null object\n",
            "street                                          19700 non-null object\n",
            "neighbourhood                                   18908 non-null object\n",
            "neighbourhood_cleansed                          19700 non-null object\n",
            "neighbourhood_group_cleansed                    0 non-null float64\n",
            "city                                            19694 non-null object\n",
            "state                                           19487 non-null object\n",
            "zipcode                                         18908 non-null object\n",
            "market                                          19664 non-null object\n",
            "smart_location                                  19700 non-null object\n",
            "country_code                                    19700 non-null object\n",
            "country                                         19700 non-null object\n",
            "latitude                                        19700 non-null float64\n",
            "longitude                                       19700 non-null float64\n",
            "is_location_exact                               19700 non-null object\n",
            "property_type                                   19700 non-null object\n",
            "room_type                                       19700 non-null object\n",
            "accommodates                                    19700 non-null int64\n",
            "bathrooms                                       19694 non-null float64\n",
            "bedrooms                                        19682 non-null float64\n",
            "beds                                            19639 non-null float64\n",
            "bed_type                                        19700 non-null object\n",
            "amenities                                       19700 non-null object\n",
            "square_feet                                     347 non-null float64\n",
            "price                                           19700 non-null object\n",
            "weekly_price                                    2358 non-null object\n",
            "monthly_price                                   1266 non-null object\n",
            "security_deposit                                13902 non-null object\n",
            "cleaning_fee                                    16218 non-null object\n",
            "guests_included                                 19700 non-null int64\n",
            "extra_people                                    19700 non-null object\n",
            "minimum_nights                                  19700 non-null int64\n",
            "maximum_nights                                  19700 non-null int64\n",
            "minimum_minimum_nights                          19700 non-null int64\n",
            "maximum_minimum_nights                          19700 non-null int64\n",
            "minimum_maximum_nights                          19700 non-null int64\n",
            "maximum_maximum_nights                          19700 non-null int64\n",
            "minimum_nights_avg_ntm                          19700 non-null float64\n",
            "maximum_nights_avg_ntm                          19700 non-null float64\n",
            "calendar_updated                                19700 non-null object\n",
            "has_availability                                19700 non-null object\n",
            "availability_30                                 19700 non-null int64\n",
            "availability_60                                 19700 non-null int64\n",
            "availability_90                                 19700 non-null int64\n",
            "availability_365                                19700 non-null int64\n",
            "calendar_last_scraped                           19700 non-null object\n",
            "number_of_reviews                               19700 non-null int64\n",
            "number_of_reviews_ltm                           19700 non-null int64\n",
            "first_review                                    17480 non-null object\n",
            "last_review                                     17480 non-null object\n",
            "review_scores_rating                            17252 non-null float64\n",
            "review_scores_accuracy                          17241 non-null float64\n",
            "review_scores_cleanliness                       17243 non-null float64\n",
            "review_scores_checkin                           17233 non-null float64\n",
            "review_scores_communication                     17241 non-null float64\n",
            "review_scores_location                          17235 non-null float64\n",
            "review_scores_value                             17235 non-null float64\n",
            "requires_license                                19700 non-null object\n",
            "license                                         14 non-null object\n",
            "jurisdiction_names                              19667 non-null object\n",
            "instant_bookable                                19700 non-null object\n",
            "is_business_travel_ready                        19700 non-null object\n",
            "cancellation_policy                             19700 non-null object\n",
            "require_guest_profile_picture                   19700 non-null object\n",
            "require_guest_phone_verification                19700 non-null object\n",
            "calculated_host_listings_count                  19700 non-null int64\n",
            "calculated_host_listings_count_entire_homes     19700 non-null int64\n",
            "calculated_host_listings_count_private_rooms    19700 non-null int64\n",
            "calculated_host_listings_count_shared_rooms     19700 non-null int64\n",
            "reviews_per_month                               17480 non-null float64\n",
            "dtypes: float64(22), int64(21), object(63)\n",
            "memory usage: 15.9+ MB\n"
          ],
          "name": "stdout"
        }
      ]
    },
    {
      "cell_type": "markdown",
      "metadata": {
        "id": "U-I9m8L8jBzX",
        "colab_type": "text"
      },
      "source": [
        "As it can be seen in the above cell result most of the columns have null values. There are even columns which don't have any entry at all. Let's determine the percentage of null values in each column and drop columns which have more than 50 percent null values"
      ]
    },
    {
      "cell_type": "code",
      "metadata": {
        "id": "lqhiuA74vVnl",
        "colab_type": "code",
        "colab": {}
      },
      "source": [
        "import numpy as np\n",
        "from matplotlib import pyplot as plt\n",
        "import seaborn as sns\n",
        "\n",
        "nrow = listings.shape[0]\n",
        "ncolumn = listings.shape[1]\n",
        "\n",
        "def null_stat(dataframe):\n",
        "\n",
        "  # Let's first remove any special characters such as '?' or '-' in every columns \n",
        "  dataframe = dataframe.replace(['?','-','none'],np.nan)\n",
        "  nulls = dataframe.isnull().sum()*100/len(dataframe)\n",
        "\n",
        "  # let's exclude columns which do not have nulls\n",
        "  nulls = nulls[nulls>0]\n",
        "  nulls.sort_values(inplace = True)\n",
        "  nulls = nulls.to_frame().reset_index()\n",
        "  nulls.columns = ['Column Name', 'Nulls in percentage']\n",
        "\n",
        "\n",
        "  #plot the missing value count\n",
        "  fig = plt.figure(figsize=(10,6))\n",
        "  ax = sns.barplot(x = 'Column Name', y = 'Nulls in percentage', data=nulls)\n",
        "  ax.set_title('Bar plot of nulls in percentage of each column')\n",
        "  plt.xticks(rotation = 90)\n",
        "  plt.show()\n",
        "\n",
        "  return nulls\n",
        "\n",
        "# Remove columns more than 50 percent null values\n",
        "def remove_nulls(dataframe):\n",
        "\n",
        "  nulls = null_stat(dataframe)\n",
        "  null_columns = nulls['Column Name'][nulls['Nulls in percentage']>50].tolist()\n",
        "  dataframe.drop(null_columns, axis = 1, inplace = True)\n",
        "\n",
        "  print('{} columns of containing more than 50 percent null values were removed'.\n",
        "        format(ncolumn-dataframe.shape[1]))\n",
        "  \n",
        "  return dataframe"
      ],
      "execution_count": 0,
      "outputs": []
    },
    {
      "cell_type": "markdown",
      "metadata": {
        "id": "VoCb4U6yT2Kn",
        "colab_type": "text"
      },
      "source": [
        "Moreover let's remove columns who have more than fifty percent null values. Besides as it can be easily observed we need to cast some features of type `object` into `float`"
      ]
    },
    {
      "cell_type": "code",
      "metadata": {
        "id": "JQgbzH_YwFJc",
        "colab_type": "code",
        "colab": {}
      },
      "source": [
        "import re\n",
        "\n",
        "# function filtering out url columns\n",
        "def url_columns(list):\n",
        "  pattern = re.compile(r'\\w+[_]url')\n",
        "  matches = pattern.search(list)\n",
        "\n",
        "  if matches:\n",
        "    matches = matches[0]\n",
        "\n",
        "    return matches\n",
        "\n",
        "# function removing url columns and scrape_id\n",
        "def remove_url(dataframe):\n",
        "  \n",
        "  df = remove_nulls(dataframe)\n",
        "  columns = df.columns.tolist()\n",
        "  url_column = [url_columns(x) for x in columns if url_columns(x)]\n",
        "  url_column.append('scrape_id')\n",
        "  col = df.shape[1]\n",
        "\n",
        "  df.drop(url_column, axis = 1, inplace = True)\n",
        "  print('{} url columns were removed'.format(col - df.shape[1]))\n",
        "\n",
        "  return df"
      ],
      "execution_count": 0,
      "outputs": []
    },
    {
      "cell_type": "markdown",
      "metadata": {
        "id": "4qsShl9Vh78A",
        "colab_type": "text"
      },
      "source": [
        "Cetrain columns of type numeric have zero entries. For example price column has zero entry which . This makes the entire row irrelevant. Therefore the entrire row containing zero price must be dropped. Same can be said to 'bedrooms','bathrooms', and 'bed' also. "
      ]
    },
    {
      "cell_type": "code",
      "metadata": {
        "id": "py7e7iJb3MuA",
        "colab_type": "code",
        "colab": {}
      },
      "source": [
        " # Retain rows where all values of columns [price, bedroom, bathrooms, beds] are non-zero\n",
        " # That is equivalent to removing rows where either of these rows is zero\n",
        "def remove_zeros(dataframe, column_list):\n",
        "   \n",
        "  # removing zero entries of columns in column_list\n",
        "  new_df = remove_url(dataframe)\n",
        "  rows = new_df.shape[0]\n",
        "  dataframe = new_df[(new_df[column_list]!=0).all(axis=1)]\n",
        "  print(\"{} rows were deleted having zero entries for either price, bedroom, bathrooms or beds\".format(rows-dataframe.shape[0]))\n",
        "\n",
        "  return dataframe\n",
        "\n",
        "# Cleaning and casting object data type to float for these columns:\n",
        "# ['host_response_rate','security_deposit','cleaning_fee','extra_people', 'price']\n",
        "def cleaned_listing(dataframe,num_list, column_list):\n",
        "  # call the last function\n",
        "  df = remove_zeros(dataframe, column_list)\n",
        "  for list in num_list:\n",
        "    df[list] = df[list].replace(r'[^\\d.]','', regex = True).astype(float)\n",
        "  print('Price column has data type of {}'.format(df['price'].dtype))\n",
        "  print('Cleaned listing dataframe has {} rows and {} columns'.format(df.shape[0], df.shape[1]))\n",
        "  \n",
        "  # Take price column to the end\n",
        "  columns = [list for list in df.columns if list!='price']\n",
        "  df = df[columns + ['price']]\n",
        "  \n",
        "  return df"
      ],
      "execution_count": 0,
      "outputs": []
    },
    {
      "cell_type": "code",
      "metadata": {
        "id": "C5_4hyOx5Dm2",
        "colab_type": "code",
        "outputId": "f52e1cbf-559d-4fdc-e494-c24f9fd315c2",
        "colab": {
          "base_uri": "https://localhost:8080/",
          "height": 765
        }
      },
      "source": [
        "import pickle\n",
        "num_list = ['host_response_rate','security_deposit','cleaning_fee','extra_people', 'price']\n",
        "column_list = ['price','bedrooms','bathrooms','beds']\n",
        "loaded = False\n",
        "\n",
        "directory_name = \"/content/drive/My Drive/airbnb\"\n",
        "create_directory(directory_name)\n",
        "try:\n",
        "    with open(os.path.join(directory_name, 'listings.pkl'), 'br') as k:\n",
        "        df_listings = pickle.load(k)\n",
        "        print('Listings data loaded.')\n",
        "        loaded = True\n",
        "except:\n",
        "    pass\n",
        "\n",
        "if not loaded:\n",
        "    df_listings = cleaned_listing(listings,num_list,column_list)\n",
        "    with open(os.path.join(directory_name, 'listings.pkl'), 'wb') as m:\n",
        "        pickle.dump(df_listings, m)"
      ],
      "execution_count": 0,
      "outputs": [
        {
          "output_type": "stream",
          "text": [
            "The folder exists\n"
          ],
          "name": "stdout"
        },
        {
          "output_type": "display_data",
          "data": {
            "image/png": "[encoded data removed]",
            "text/plain": [
              "<Figure size 720x432 with 1 Axes>"
            ]
          },
          "metadata": {
            "tags": []
          }
        },
        {
          "output_type": "stream",
          "text": [
            "10 columns of containing more than 50 percent null values were removed\n",
            "6 url columns were removed\n",
            "1371 rows were deleted having zero entries for either price, bedroom, bathrooms or beds\n",
            "Price column has data type of float64\n",
            "Cleaned listing dataframe has 18329 rows and 90 columns\n"
          ],
          "name": "stdout"
        },
        {
          "output_type": "stream",
          "text": [
            "/usr/local/lib/python3.6/dist-packages/ipykernel_launcher.py:17: SettingWithCopyWarning: \n",
            "A value is trying to be set on a copy of a slice from a DataFrame.\n",
            "Try using .loc[row_indexer,col_indexer] = value instead\n",
            "\n",
            "See the caveats in the documentation: http://pandas.pydata.org/pandas-docs/stable/user_guide/indexing.html#returning-a-view-versus-a-copy\n"
          ],
          "name": "stderr"
        }
      ]
    },
    {
      "cell_type": "code",
      "metadata": {
        "id": "fURWF_QQXJ2G",
        "colab_type": "code",
        "colab": {}
      },
      "source": [
        ""
      ],
      "execution_count": 0,
      "outputs": []
    }
  ]
}